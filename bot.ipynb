{
  "nbformat": 4,
  "nbformat_minor": 0,
  "metadata": {
    "colab": {
      "provenance": [],
      "authorship_tag": "ABX9TyNgFpiuS8bft/wDYYZ83jm0",
      "include_colab_link": true
    },
    "kernelspec": {
      "name": "python3",
      "display_name": "Python 3"
    },
    "language_info": {
      "name": "python"
    }
  },
  "cells": [
    {
      "cell_type": "markdown",
      "metadata": {
        "id": "view-in-github",
        "colab_type": "text"
      },
      "source": [
        "<a href=\"https://colab.research.google.com/github/kuznechek/locations_bot/blob/dev/bot.ipynb\" target=\"_parent\"><img src=\"https://colab.research.google.com/assets/colab-badge.svg\" alt=\"Open In Colab\"/></a>"
      ]
    },
    {
      "cell_type": "code",
      "source": [
        "! pip install pyTelegramBotApi"
      ],
      "metadata": {
        "colab": {
          "base_uri": "https://localhost:8080/"
        },
        "id": "bCq5FqH9iqvP",
        "outputId": "0ab8d971-cf07-48a0-dde2-fd4ebee1bb90"
      },
      "execution_count": 2,
      "outputs": [
        {
          "output_type": "stream",
          "name": "stdout",
          "text": [
            "Looking in indexes: https://pypi.org/simple, https://us-python.pkg.dev/colab-wheels/public/simple/\n",
            "Collecting pyTelegramBotApi\n",
            "  Downloading pyTelegramBotAPI-4.8.0.tar.gz (217 kB)\n",
            "\u001b[K     |████████████████████████████████| 217 kB 8.5 MB/s \n",
            "\u001b[?25hRequirement already satisfied: requests in /usr/local/lib/python3.8/dist-packages (from pyTelegramBotApi) (2.23.0)\n",
            "Requirement already satisfied: chardet<4,>=3.0.2 in /usr/local/lib/python3.8/dist-packages (from requests->pyTelegramBotApi) (3.0.4)\n",
            "Requirement already satisfied: idna<3,>=2.5 in /usr/local/lib/python3.8/dist-packages (from requests->pyTelegramBotApi) (2.10)\n",
            "Requirement already satisfied: urllib3!=1.25.0,!=1.25.1,<1.26,>=1.21.1 in /usr/local/lib/python3.8/dist-packages (from requests->pyTelegramBotApi) (1.24.3)\n",
            "Requirement already satisfied: certifi>=2017.4.17 in /usr/local/lib/python3.8/dist-packages (from requests->pyTelegramBotApi) (2022.12.7)\n",
            "Building wheels for collected packages: pyTelegramBotApi\n",
            "  Building wheel for pyTelegramBotApi (setup.py) ... \u001b[?25l\u001b[?25hdone\n",
            "  Created wheel for pyTelegramBotApi: filename=pyTelegramBotAPI-4.8.0-py3-none-any.whl size=200125 sha256=f83946a0a5f99e73761823dad1bc2fb4cc94c9302a980e5270775a48adca935b\n",
            "  Stored in directory: /root/.cache/pip/wheels/c2/05/70/8409792e663e67a70e057df1f18d070105c1c457b3f410bbb0\n",
            "Successfully built pyTelegramBotApi\n",
            "Installing collected packages: pyTelegramBotApi\n",
            "Successfully installed pyTelegramBotApi-4.8.0\n"
          ]
        }
      ]
    },
    {
      "cell_type": "code",
      "execution_count": 15,
      "metadata": {
        "id": "3toABVXgdRC2"
      },
      "outputs": [],
      "source": [
        "import telebot\n",
        "from telebot import types\n"
      ]
    },
    {
      "cell_type": "code",
      "source": [
        "messages = {\n",
        "    'hello': 'Привет! Здесь можно искать локации для фотографий и делиться ими',\n",
        "    }"
      ],
      "metadata": {
        "id": "B74G2v9imoIA"
      },
      "execution_count": 18,
      "outputs": []
    },
    {
      "cell_type": "code",
      "source": [
        "token = '5928165148:AAGieQhyxZBCSddkcINPPgT94IqlBKxaMdw'\n",
        "bot = telebot.TeleBot(token)\n",
        "\n",
        "#commands\n",
        "@bot.message_handler(commands = ['start'])\n",
        "def game_start(message):\n",
        "\tkeyboard = types.ReplyKeyboardMarkup(resize_keyboard = True)\n",
        "\tbtn1 = types.KeyboardButton('Ищу локацию')\n",
        "\tbtn2 = types.KeyboardButton('Поделюсь локацией')\n",
        "\tkeyboard.add(btn1, btn2)\n",
        "\tbot.send_message(message.chat.id, messages['hello'], reply_markup = keyboard)\n",
        "\n",
        "@bot.message_handler(content_types = ['text'])\n",
        "def game(message):\n",
        "    bot.send_message(message.chat.id, 'message')\n",
        "    \n",
        "bot.polling(none_stop = True)"
      ],
      "metadata": {
        "id": "24mMaNyDiRyg"
      },
      "execution_count": 19,
      "outputs": []
    }
  ]
}